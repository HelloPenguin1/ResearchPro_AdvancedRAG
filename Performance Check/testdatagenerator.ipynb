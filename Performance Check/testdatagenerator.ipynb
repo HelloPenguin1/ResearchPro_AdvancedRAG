{
 "cells": [
  {
   "cell_type": "code",
   "execution_count": 1,
   "id": "1920884f",
   "metadata": {},
   "outputs": [],
   "source": [
    "import os \n",
    "from langchain_groq import ChatGroq\n",
    "from langchain_huggingface import HuggingFaceEmbeddings\n",
    "from langchain_huggingface import HuggingFaceEndpoint\n",
    "from langchain_community.document_loaders import PyPDFLoader\n",
    "from dotenv import load_dotenv\n",
    "\n",
    "#Api key\n",
    "groq_api_key = os.getenv(\"GROQ_API_KEY\")"
   ]
  },
  {
   "cell_type": "code",
   "execution_count": 2,
   "id": "488cdb00",
   "metadata": {},
   "outputs": [
    {
     "name": "stderr",
     "output_type": "stream",
     "text": [
      "c:\\Users\\Soham's Laptop\\Desktop\\FastAPI_basics\\ResearchPro-Project\\venv\\lib\\site-packages\\tqdm\\auto.py:21: TqdmWarning: IProgress not found. Please update jupyter and ipywidgets. See https://ipywidgets.readthedocs.io/en/stable/user_install.html\n",
      "  from .autonotebook import tqdm as notebook_tqdm\n"
     ]
    }
   ],
   "source": [
    "import ragas"
   ]
  },
  {
   "cell_type": "code",
   "execution_count": 18,
   "id": "09c75202",
   "metadata": {},
   "outputs": [],
   "source": [
    "#Embedding model\n",
    "embedding =  HuggingFaceEmbeddings(\n",
    "    model_name = \"BAAI/bge-small-en-v1.5\",\n",
    "    encode_kwargs = {'normalize_embeddings':True},\n",
    ")\n",
    "\n",
    "#LLM Model \n",
    "llm_generate = ChatGroq(model=\"openai/gpt-oss-20b\", \n",
    "               groq_api_key=groq_api_key)\n",
    "\n",
    "\n",
    "#Critic Model\n",
    "critic_llm = HuggingFaceEndpoint(\n",
    "    repo_id=\"Qwen/Qwen2-72B-Instruct-GPTQ-Int8\", \n",
    "    huggingfacehub_api_token=os.getenv(\"HF_TOKEN\"),\n",
    ")"
   ]
  },
  {
   "cell_type": "code",
   "execution_count": 19,
   "id": "a45a967f",
   "metadata": {},
   "outputs": [],
   "source": [
    "docs = PyPDFLoader(\"test_paper.pdf\").load()"
   ]
  },
  {
   "cell_type": "markdown",
   "id": "36b05670",
   "metadata": {},
   "source": [
    "Creating the synthetic dataset"
   ]
  },
  {
   "cell_type": "code",
   "execution_count": null,
   "id": "dd8d44c8",
   "metadata": {},
   "outputs": [],
   "source": []
  }
 ],
 "metadata": {
  "kernelspec": {
   "display_name": "venv",
   "language": "python",
   "name": "python3"
  },
  "language_info": {
   "codemirror_mode": {
    "name": "ipython",
    "version": 3
   },
   "file_extension": ".py",
   "mimetype": "text/x-python",
   "name": "python",
   "nbconvert_exporter": "python",
   "pygments_lexer": "ipython3",
   "version": "3.10.11"
  }
 },
 "nbformat": 4,
 "nbformat_minor": 5
}
