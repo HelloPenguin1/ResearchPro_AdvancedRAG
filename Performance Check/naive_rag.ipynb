{
 "cells": [
  {
   "cell_type": "markdown",
   "id": "689a7e73",
   "metadata": {},
   "source": [
    "Naive RAG using UnstructuredPDFLoader and semantic retriever via FAISS for baseline performance gauge"
   ]
  },
  {
   "cell_type": "code",
   "execution_count": 12,
   "id": "60c9e5fe",
   "metadata": {},
   "outputs": [],
   "source": [
    "from langchain_community.vectorstores import FAISS\n",
    "from langchain_community.document_loaders import UnstructuredPDFLoader\n",
    "from langchain.text_splitter import RecursiveCharacterTextSplitter\n",
    "from langchain.embeddings import HuggingFaceEmbeddings"
   ]
  },
  {
   "cell_type": "code",
   "execution_count": 13,
   "id": "556d260f",
   "metadata": {},
   "outputs": [
    {
     "name": "stderr",
     "output_type": "stream",
     "text": [
      "C:\\Users\\Soham's Laptop\\AppData\\Local\\Temp\\ipykernel_85868\\3305529691.py:1: LangChainDeprecationWarning: The class `HuggingFaceEmbeddings` was deprecated in LangChain 0.2.2 and will be removed in 1.0. An updated version of the class exists in the :class:`~langchain-huggingface package and should be used instead. To use it run `pip install -U :class:`~langchain-huggingface` and import as `from :class:`~langchain_huggingface import HuggingFaceEmbeddings``.\n",
      "  embedding_model = HuggingFaceEmbeddings(\n",
      "c:\\Users\\Soham's Laptop\\Desktop\\FastAPI_basics\\ResearchPro-Project\\venv\\lib\\site-packages\\tqdm\\auto.py:21: TqdmWarning: IProgress not found. Please update jupyter and ipywidgets. See https://ipywidgets.readthedocs.io/en/stable/user_install.html\n",
      "  from .autonotebook import tqdm as notebook_tqdm\n"
     ]
    }
   ],
   "source": [
    "embedding_model = HuggingFaceEmbeddings(\n",
    "    model_name = \"BAAI/bge-small-en-v1.5\",\n",
    "    encode_kwargs = {'normalize_embeddings':True},\n",
    ")"
   ]
  },
  {
   "cell_type": "code",
   "execution_count": 3,
   "id": "85a033f4",
   "metadata": {},
   "outputs": [],
   "source": [
    "def load_pdf(filepath):\n",
    "    loader = UnstructuredPDFLoader(\n",
    "                    file_path=filepath,\n",
    "                    mode = \"elements\",\n",
    "                    strategy = \"fast\",\n",
    "                    languages=[\"eng\"],\n",
    "                    pdf_infer_table_structure = True,\n",
    "                    include_page_breaks = True\n",
    "                )\n",
    "    docs = loader.load()\n",
    "    return docs"
   ]
  },
  {
   "cell_type": "code",
   "execution_count": 4,
   "id": "3454cb7a",
   "metadata": {},
   "outputs": [],
   "source": [
    "def process_pdf(docs):\n",
    "    splitter = RecursiveCharacterTextSplitter(chunk_size = 800, \n",
    "                                                  chunk_overlap = 100,\n",
    "                                                  separators=[\n",
    "                                                      \"\\n\\n\",\n",
    "                                                      \"\\n\",\n",
    "                                                      \". \",\n",
    "                                                      \" \",\n",
    "                                                      \"\"\n",
    "                                                  ])\n",
    "    chunks = splitter.split_documents(docs)\n",
    "    return chunks"
   ]
  },
  {
   "cell_type": "markdown",
   "id": "23494083",
   "metadata": {},
   "source": [
    "Sample paper for evaluation: \"Designing deep learning studies\n",
    "in cancer diagnostics\" - Published March 2021"
   ]
  },
  {
   "cell_type": "code",
   "execution_count": 25,
   "id": "d248c76e",
   "metadata": {},
   "outputs": [],
   "source": [
    "import os\n",
    "current_dir = os.path.dirname(os.path.abspath(\"__file__\"))\n",
    "pdf_path = os.path.join(current_dir, \"test_paper.pdf\")\n",
    "\n",
    "docs = load_pdf(pdf_path)\n",
    "chunks = process_pdf(docs)"
   ]
  },
  {
   "cell_type": "code",
   "execution_count": null,
   "id": "aafa2862",
   "metadata": {},
   "outputs": [],
   "source": []
  }
 ],
 "metadata": {
  "kernelspec": {
   "display_name": "venv",
   "language": "python",
   "name": "python3"
  },
  "language_info": {
   "codemirror_mode": {
    "name": "ipython",
    "version": 3
   },
   "file_extension": ".py",
   "mimetype": "text/x-python",
   "name": "python",
   "nbconvert_exporter": "python",
   "pygments_lexer": "ipython3",
   "version": "3.10.11"
  }
 },
 "nbformat": 4,
 "nbformat_minor": 5
}
